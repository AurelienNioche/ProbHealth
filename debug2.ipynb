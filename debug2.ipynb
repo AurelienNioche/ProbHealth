{
 "cells": [
  {
   "cell_type": "code",
   "execution_count": 69,
   "id": "87016173",
   "metadata": {},
   "outputs": [],
   "source": [
    "import numpy as np\n",
    "import pandas as pd\n",
    "import semopy"
   ]
  },
  {
   "cell_type": "code",
   "execution_count": 9,
   "id": "1d842bc0",
   "metadata": {},
   "outputs": [],
   "source": [
    "np.random.seed(0)\n",
    "n = 30\n",
    "x = np.random.random(n)\n",
    "y = 2. * x + 3."
   ]
  },
  {
   "cell_type": "code",
   "execution_count": 33,
   "id": "426c2f31",
   "metadata": {},
   "outputs": [],
   "source": [
    "X = x.reshape((-1,1 ))\n",
    "X = np.hstack((X, np.ones_like(X)))"
   ]
  },
  {
   "cell_type": "code",
   "execution_count": 34,
   "id": "8a9902a3",
   "metadata": {},
   "outputs": [
    {
     "data": {
      "text/plain": [
       "array([[0.5488135 , 1.        ],\n",
       "       [0.71518937, 1.        ],\n",
       "       [0.60276338, 1.        ],\n",
       "       [0.54488318, 1.        ],\n",
       "       [0.4236548 , 1.        ],\n",
       "       [0.64589411, 1.        ],\n",
       "       [0.43758721, 1.        ],\n",
       "       [0.891773  , 1.        ],\n",
       "       [0.96366276, 1.        ],\n",
       "       [0.38344152, 1.        ],\n",
       "       [0.79172504, 1.        ],\n",
       "       [0.52889492, 1.        ],\n",
       "       [0.56804456, 1.        ],\n",
       "       [0.92559664, 1.        ],\n",
       "       [0.07103606, 1.        ],\n",
       "       [0.0871293 , 1.        ],\n",
       "       [0.0202184 , 1.        ],\n",
       "       [0.83261985, 1.        ],\n",
       "       [0.77815675, 1.        ],\n",
       "       [0.87001215, 1.        ],\n",
       "       [0.97861834, 1.        ],\n",
       "       [0.79915856, 1.        ],\n",
       "       [0.46147936, 1.        ],\n",
       "       [0.78052918, 1.        ],\n",
       "       [0.11827443, 1.        ],\n",
       "       [0.63992102, 1.        ],\n",
       "       [0.14335329, 1.        ],\n",
       "       [0.94466892, 1.        ],\n",
       "       [0.52184832, 1.        ],\n",
       "       [0.41466194, 1.        ]])"
      ]
     },
     "execution_count": 34,
     "metadata": {},
     "output_type": "execute_result"
    }
   ],
   "source": [
    "X"
   ]
  },
  {
   "cell_type": "markdown",
   "id": "125e727c",
   "metadata": {},
   "source": [
    "$b =  (X^T X)^{-1}  X^T y$\n",
    "\n",
    "http://mlwiki.org/index.php/Normal_Equation"
   ]
  },
  {
   "cell_type": "code",
   "execution_count": 37,
   "id": "f3417e92",
   "metadata": {},
   "outputs": [
    {
     "data": {
      "text/plain": [
       "array([2., 3.])"
      ]
     },
     "execution_count": 37,
     "metadata": {},
     "output_type": "execute_result"
    }
   ],
   "source": [
    "np.linalg.inv(X.T@X)@X.T@y"
   ]
  },
  {
   "cell_type": "code",
   "execution_count": 58,
   "id": "8ff87125",
   "metadata": {},
   "outputs": [
    {
     "data": {
      "text/html": [
       "<div>\n",
       "<style scoped>\n",
       "    .dataframe tbody tr th:only-of-type {\n",
       "        vertical-align: middle;\n",
       "    }\n",
       "\n",
       "    .dataframe tbody tr th {\n",
       "        vertical-align: top;\n",
       "    }\n",
       "\n",
       "    .dataframe thead th {\n",
       "        text-align: right;\n",
       "    }\n",
       "</style>\n",
       "<table border=\"1\" class=\"dataframe\">\n",
       "  <thead>\n",
       "    <tr style=\"text-align: right;\">\n",
       "      <th></th>\n",
       "      <th>motiv</th>\n",
       "      <th>harm</th>\n",
       "      <th>stabi</th>\n",
       "      <th>ppsych</th>\n",
       "      <th>ses</th>\n",
       "      <th>verbal</th>\n",
       "      <th>read</th>\n",
       "      <th>arith</th>\n",
       "      <th>spell</th>\n",
       "    </tr>\n",
       "  </thead>\n",
       "  <tbody>\n",
       "    <tr>\n",
       "      <th>0</th>\n",
       "      <td>-7.907122</td>\n",
       "      <td>-5.075312</td>\n",
       "      <td>-3.138836</td>\n",
       "      <td>-17.800210</td>\n",
       "      <td>4.766450</td>\n",
       "      <td>-3.633360</td>\n",
       "      <td>-3.488981</td>\n",
       "      <td>-9.989121</td>\n",
       "      <td>-6.567873</td>\n",
       "    </tr>\n",
       "    <tr>\n",
       "      <th>1</th>\n",
       "      <td>1.751478</td>\n",
       "      <td>-4.155847</td>\n",
       "      <td>3.520752</td>\n",
       "      <td>7.009367</td>\n",
       "      <td>-6.048681</td>\n",
       "      <td>-7.693461</td>\n",
       "      <td>-4.520552</td>\n",
       "      <td>8.196238</td>\n",
       "      <td>8.778973</td>\n",
       "    </tr>\n",
       "    <tr>\n",
       "      <th>2</th>\n",
       "      <td>14.472570</td>\n",
       "      <td>-4.540677</td>\n",
       "      <td>4.070600</td>\n",
       "      <td>23.734260</td>\n",
       "      <td>-16.970670</td>\n",
       "      <td>-3.909941</td>\n",
       "      <td>-4.818170</td>\n",
       "      <td>7.529984</td>\n",
       "      <td>-5.688716</td>\n",
       "    </tr>\n",
       "    <tr>\n",
       "      <th>3</th>\n",
       "      <td>-1.165421</td>\n",
       "      <td>-5.668406</td>\n",
       "      <td>2.600437</td>\n",
       "      <td>1.493158</td>\n",
       "      <td>1.396363</td>\n",
       "      <td>21.409450</td>\n",
       "      <td>-3.138441</td>\n",
       "      <td>5.730547</td>\n",
       "      <td>-2.915676</td>\n",
       "    </tr>\n",
       "    <tr>\n",
       "      <th>4</th>\n",
       "      <td>-4.222899</td>\n",
       "      <td>-10.072150</td>\n",
       "      <td>-6.030737</td>\n",
       "      <td>-5.985864</td>\n",
       "      <td>-18.376400</td>\n",
       "      <td>-1.438816</td>\n",
       "      <td>-2.009742</td>\n",
       "      <td>-0.623953</td>\n",
       "      <td>-1.024624</td>\n",
       "    </tr>\n",
       "    <tr>\n",
       "      <th>...</th>\n",
       "      <td>...</td>\n",
       "      <td>...</td>\n",
       "      <td>...</td>\n",
       "      <td>...</td>\n",
       "      <td>...</td>\n",
       "      <td>...</td>\n",
       "      <td>...</td>\n",
       "      <td>...</td>\n",
       "      <td>...</td>\n",
       "    </tr>\n",
       "    <tr>\n",
       "      <th>495</th>\n",
       "      <td>3.274111</td>\n",
       "      <td>6.335590</td>\n",
       "      <td>7.966526</td>\n",
       "      <td>-22.634070</td>\n",
       "      <td>-3.404731</td>\n",
       "      <td>4.002903</td>\n",
       "      <td>6.263109</td>\n",
       "      <td>-4.254130</td>\n",
       "      <td>-0.432311</td>\n",
       "    </tr>\n",
       "    <tr>\n",
       "      <th>496</th>\n",
       "      <td>2.871656</td>\n",
       "      <td>3.414905</td>\n",
       "      <td>10.560660</td>\n",
       "      <td>-3.599253</td>\n",
       "      <td>8.025676</td>\n",
       "      <td>-6.791690</td>\n",
       "      <td>12.249790</td>\n",
       "      <td>4.475929</td>\n",
       "      <td>8.856446</td>\n",
       "    </tr>\n",
       "    <tr>\n",
       "      <th>497</th>\n",
       "      <td>2.577785</td>\n",
       "      <td>2.078503</td>\n",
       "      <td>-5.524660</td>\n",
       "      <td>5.369411</td>\n",
       "      <td>-5.751442</td>\n",
       "      <td>0.860869</td>\n",
       "      <td>7.032958</td>\n",
       "      <td>-3.787138</td>\n",
       "      <td>1.084259</td>\n",
       "    </tr>\n",
       "    <tr>\n",
       "      <th>498</th>\n",
       "      <td>15.158430</td>\n",
       "      <td>20.210650</td>\n",
       "      <td>8.040233</td>\n",
       "      <td>-1.093764</td>\n",
       "      <td>-8.675011</td>\n",
       "      <td>-12.160090</td>\n",
       "      <td>3.888996</td>\n",
       "      <td>-0.185587</td>\n",
       "      <td>0.872260</td>\n",
       "    </tr>\n",
       "    <tr>\n",
       "      <th>499</th>\n",
       "      <td>-17.682350</td>\n",
       "      <td>-20.886040</td>\n",
       "      <td>-13.443200</td>\n",
       "      <td>5.205892</td>\n",
       "      <td>-10.634370</td>\n",
       "      <td>-9.503462</td>\n",
       "      <td>-19.837630</td>\n",
       "      <td>-23.932320</td>\n",
       "      <td>-21.334100</td>\n",
       "    </tr>\n",
       "  </tbody>\n",
       "</table>\n",
       "<p>500 rows × 9 columns</p>\n",
       "</div>"
      ],
      "text/plain": [
       "         motiv       harm      stabi     ppsych        ses     verbal  \\\n",
       "0    -7.907122  -5.075312  -3.138836 -17.800210   4.766450  -3.633360   \n",
       "1     1.751478  -4.155847   3.520752   7.009367  -6.048681  -7.693461   \n",
       "2    14.472570  -4.540677   4.070600  23.734260 -16.970670  -3.909941   \n",
       "3    -1.165421  -5.668406   2.600437   1.493158   1.396363  21.409450   \n",
       "4    -4.222899 -10.072150  -6.030737  -5.985864 -18.376400  -1.438816   \n",
       "..         ...        ...        ...        ...        ...        ...   \n",
       "495   3.274111   6.335590   7.966526 -22.634070  -3.404731   4.002903   \n",
       "496   2.871656   3.414905  10.560660  -3.599253   8.025676  -6.791690   \n",
       "497   2.577785   2.078503  -5.524660   5.369411  -5.751442   0.860869   \n",
       "498  15.158430  20.210650   8.040233  -1.093764  -8.675011 -12.160090   \n",
       "499 -17.682350 -20.886040 -13.443200   5.205892 -10.634370  -9.503462   \n",
       "\n",
       "          read      arith      spell  \n",
       "0    -3.488981  -9.989121  -6.567873  \n",
       "1    -4.520552   8.196238   8.778973  \n",
       "2    -4.818170   7.529984  -5.688716  \n",
       "3    -3.138441   5.730547  -2.915676  \n",
       "4    -2.009742  -0.623953  -1.024624  \n",
       "..         ...        ...        ...  \n",
       "495   6.263109  -4.254130  -0.432311  \n",
       "496  12.249790   4.475929   8.856446  \n",
       "497   7.032958  -3.787138   1.084259  \n",
       "498   3.888996  -0.185587   0.872260  \n",
       "499 -19.837630 -23.932320 -21.334100  \n",
       "\n",
       "[500 rows x 9 columns]"
      ]
     },
     "execution_count": 58,
     "metadata": {},
     "output_type": "execute_result"
    }
   ],
   "source": [
    "data = pd.read_csv('worland5.csv')\n",
    "data"
   ]
  },
  {
   "cell_type": "code",
   "execution_count": 59,
   "id": "b80cff39",
   "metadata": {},
   "outputs": [
    {
     "data": {
      "text/html": [
       "<div>\n",
       "<style scoped>\n",
       "    .dataframe tbody tr th:only-of-type {\n",
       "        vertical-align: middle;\n",
       "    }\n",
       "\n",
       "    .dataframe tbody tr th {\n",
       "        vertical-align: top;\n",
       "    }\n",
       "\n",
       "    .dataframe thead th {\n",
       "        text-align: right;\n",
       "    }\n",
       "</style>\n",
       "<table border=\"1\" class=\"dataframe\">\n",
       "  <thead>\n",
       "    <tr style=\"text-align: right;\">\n",
       "      <th></th>\n",
       "      <th>motiv</th>\n",
       "      <th>harm</th>\n",
       "      <th>stabi</th>\n",
       "      <th>ppsych</th>\n",
       "      <th>ses</th>\n",
       "      <th>verbal</th>\n",
       "      <th>read</th>\n",
       "      <th>arith</th>\n",
       "      <th>spell</th>\n",
       "    </tr>\n",
       "  </thead>\n",
       "  <tbody>\n",
       "    <tr>\n",
       "      <th>motiv</th>\n",
       "      <td>100.000003</td>\n",
       "      <td>77.000002</td>\n",
       "      <td>59.000002</td>\n",
       "      <td>-25.000001</td>\n",
       "      <td>24.999998</td>\n",
       "      <td>32.000001</td>\n",
       "      <td>53.000002</td>\n",
       "      <td>60.000002</td>\n",
       "      <td>59.000002</td>\n",
       "    </tr>\n",
       "    <tr>\n",
       "      <th>harm</th>\n",
       "      <td>77.000002</td>\n",
       "      <td>99.999999</td>\n",
       "      <td>58.000001</td>\n",
       "      <td>-24.999998</td>\n",
       "      <td>25.999998</td>\n",
       "      <td>25.000000</td>\n",
       "      <td>42.000000</td>\n",
       "      <td>44.000001</td>\n",
       "      <td>45.000000</td>\n",
       "    </tr>\n",
       "    <tr>\n",
       "      <th>stabi</th>\n",
       "      <td>59.000002</td>\n",
       "      <td>58.000001</td>\n",
       "      <td>100.000004</td>\n",
       "      <td>-16.000000</td>\n",
       "      <td>17.999999</td>\n",
       "      <td>27.000000</td>\n",
       "      <td>36.000003</td>\n",
       "      <td>38.000001</td>\n",
       "      <td>38.000004</td>\n",
       "    </tr>\n",
       "    <tr>\n",
       "      <th>ppsych</th>\n",
       "      <td>-25.000001</td>\n",
       "      <td>-24.999998</td>\n",
       "      <td>-16.000000</td>\n",
       "      <td>99.999995</td>\n",
       "      <td>-41.999998</td>\n",
       "      <td>-39.999999</td>\n",
       "      <td>-38.999998</td>\n",
       "      <td>-24.000000</td>\n",
       "      <td>-30.999999</td>\n",
       "    </tr>\n",
       "    <tr>\n",
       "      <th>ses</th>\n",
       "      <td>24.999998</td>\n",
       "      <td>25.999998</td>\n",
       "      <td>17.999999</td>\n",
       "      <td>-41.999998</td>\n",
       "      <td>99.999998</td>\n",
       "      <td>39.999999</td>\n",
       "      <td>43.000000</td>\n",
       "      <td>36.999998</td>\n",
       "      <td>32.999999</td>\n",
       "    </tr>\n",
       "    <tr>\n",
       "      <th>verbal</th>\n",
       "      <td>32.000001</td>\n",
       "      <td>25.000000</td>\n",
       "      <td>27.000000</td>\n",
       "      <td>-39.999999</td>\n",
       "      <td>39.999999</td>\n",
       "      <td>99.999999</td>\n",
       "      <td>56.000001</td>\n",
       "      <td>49.000001</td>\n",
       "      <td>48.000000</td>\n",
       "    </tr>\n",
       "    <tr>\n",
       "      <th>read</th>\n",
       "      <td>53.000002</td>\n",
       "      <td>42.000000</td>\n",
       "      <td>36.000003</td>\n",
       "      <td>-38.999998</td>\n",
       "      <td>43.000000</td>\n",
       "      <td>56.000001</td>\n",
       "      <td>100.000002</td>\n",
       "      <td>73.000002</td>\n",
       "      <td>87.000001</td>\n",
       "    </tr>\n",
       "    <tr>\n",
       "      <th>arith</th>\n",
       "      <td>60.000002</td>\n",
       "      <td>44.000001</td>\n",
       "      <td>38.000001</td>\n",
       "      <td>-24.000000</td>\n",
       "      <td>36.999998</td>\n",
       "      <td>49.000001</td>\n",
       "      <td>73.000002</td>\n",
       "      <td>100.000002</td>\n",
       "      <td>72.000002</td>\n",
       "    </tr>\n",
       "    <tr>\n",
       "      <th>spell</th>\n",
       "      <td>59.000002</td>\n",
       "      <td>45.000000</td>\n",
       "      <td>38.000004</td>\n",
       "      <td>-30.999999</td>\n",
       "      <td>32.999999</td>\n",
       "      <td>48.000000</td>\n",
       "      <td>87.000001</td>\n",
       "      <td>72.000002</td>\n",
       "      <td>100.000000</td>\n",
       "    </tr>\n",
       "  </tbody>\n",
       "</table>\n",
       "</div>"
      ],
      "text/plain": [
       "             motiv       harm       stabi     ppsych        ses     verbal  \\\n",
       "motiv   100.000003  77.000002   59.000002 -25.000001  24.999998  32.000001   \n",
       "harm     77.000002  99.999999   58.000001 -24.999998  25.999998  25.000000   \n",
       "stabi    59.000002  58.000001  100.000004 -16.000000  17.999999  27.000000   \n",
       "ppsych  -25.000001 -24.999998  -16.000000  99.999995 -41.999998 -39.999999   \n",
       "ses      24.999998  25.999998   17.999999 -41.999998  99.999998  39.999999   \n",
       "verbal   32.000001  25.000000   27.000000 -39.999999  39.999999  99.999999   \n",
       "read     53.000002  42.000000   36.000003 -38.999998  43.000000  56.000001   \n",
       "arith    60.000002  44.000001   38.000001 -24.000000  36.999998  49.000001   \n",
       "spell    59.000002  45.000000   38.000004 -30.999999  32.999999  48.000000   \n",
       "\n",
       "              read       arith       spell  \n",
       "motiv    53.000002   60.000002   59.000002  \n",
       "harm     42.000000   44.000001   45.000000  \n",
       "stabi    36.000003   38.000001   38.000004  \n",
       "ppsych  -38.999998  -24.000000  -30.999999  \n",
       "ses      43.000000   36.999998   32.999999  \n",
       "verbal   56.000001   49.000001   48.000000  \n",
       "read    100.000002   73.000002   87.000001  \n",
       "arith    73.000002  100.000002   72.000002  \n",
       "spell    87.000001   72.000002  100.000000  "
      ]
     },
     "execution_count": 59,
     "metadata": {},
     "output_type": "execute_result"
    }
   ],
   "source": [
    "data.cov()"
   ]
  },
  {
   "cell_type": "code",
   "execution_count": 63,
   "id": "c38f32e3",
   "metadata": {},
   "outputs": [
    {
     "data": {
      "text/plain": [
       "array([-7.907122e+00,  1.751478e+00,  1.447257e+01, -1.165421e+00,\n",
       "       -4.222899e+00,  4.868769e+00,  1.036737e+01, -1.861007e+00,\n",
       "       -1.345222e+01,  2.852636e+00, -2.135480e+00, -1.327171e+01,\n",
       "        7.468200e-02, -1.234672e+00,  1.621586e+01,  2.627465e+00,\n",
       "       -2.094704e+01,  1.803133e+00, -2.228813e+00,  1.455498e+01,\n",
       "        4.125528e+00,  2.618851e+01, -1.465615e+00, -6.474650e-01,\n",
       "       -1.897242e+01,  4.559503e+00, -3.140967e+00,  3.014924e+00,\n",
       "       -2.370748e+00,  5.418550e+00,  8.727378e+00, -7.142818e+00,\n",
       "       -1.858579e+01, -1.271571e+01,  2.989872e+00, -8.942353e+00,\n",
       "        1.060920e+01,  1.979164e+01,  2.792732e+00, -2.337454e+00,\n",
       "       -1.016219e+01,  1.418544e+01,  4.504490e-01, -7.736377e+00,\n",
       "       -1.616346e+01, -1.527247e+01,  7.318634e+00,  9.711668e+00,\n",
       "        1.529264e+01,  6.868947e+00,  5.639946e+00,  5.475866e+00,\n",
       "        4.200402e+00,  4.692285e+00, -1.804298e+00,  1.208730e+01,\n",
       "       -4.530589e+00,  1.406372e+01,  1.280981e+01, -1.367006e+01,\n",
       "       -5.557656e+00,  8.677933e+00,  1.236070e+01, -7.244153e+00,\n",
       "        1.050176e+01,  1.014635e+00, -8.190607e+00,  6.160249e+00,\n",
       "       -2.471507e+00, -1.603001e+01, -2.103400e+00,  8.527430e+00,\n",
       "        1.697749e+01, -3.330000e-01,  7.224640e-01, -1.014584e+00,\n",
       "        5.271247e+00, -9.701431e+00,  7.579070e+00, -6.882063e+00,\n",
       "       -5.786774e+00,  6.693964e+00, -2.648439e+00,  8.703713e+00,\n",
       "        1.388656e+01,  1.108443e+01, -2.097128e+01, -4.916105e+00,\n",
       "       -2.046113e+01, -9.767687e+00,  6.153517e+00, -1.216716e+01,\n",
       "        8.851975e+00, -3.900270e-01,  1.759491e+00,  5.711548e+00,\n",
       "        1.415080e+01,  5.712750e+00,  4.569460e+00,  1.974778e+01,\n",
       "        9.038125e+00,  3.785077e+00,  5.769600e+00,  8.154062e+00,\n",
       "        8.429150e+00, -1.476856e+01, -5.977497e+00,  2.873236e+00,\n",
       "        2.121174e+01,  7.320471e+00,  6.485012e+00,  1.169172e+01,\n",
       "       -3.733639e+00,  1.018358e+01,  4.995244e+00,  9.210470e-01,\n",
       "       -4.300870e-01,  3.311066e+00, -1.176630e+00, -1.037845e+00,\n",
       "       -1.045788e+01,  1.252849e+01,  1.228290e+01,  5.608508e+00,\n",
       "       -5.572068e+00,  6.751894e+00,  1.192155e+01,  5.447405e+00,\n",
       "       -5.703391e+00, -1.034563e+00, -6.682473e+00, -2.568812e+00,\n",
       "       -4.199020e+00, -9.432201e+00,  7.896635e+00,  9.597970e+00,\n",
       "        7.726818e+00, -6.296026e+00, -2.188420e+00, -1.168089e+00,\n",
       "        1.405812e+01, -3.397121e+01,  2.308777e+00,  3.225522e+00,\n",
       "        1.069634e+00, -1.851454e+01, -1.484643e+00,  1.117110e+01,\n",
       "        1.348948e+01, -2.023548e+01, -6.961362e+00,  1.583907e+01,\n",
       "       -1.468284e+01,  1.040018e+01,  1.670391e+01,  5.786038e+00,\n",
       "       -1.415149e+01, -3.954012e+00,  2.775058e+00, -7.459465e+00,\n",
       "       -2.364696e+00, -3.158073e+00, -7.460887e+00, -1.349574e+00,\n",
       "       -1.091775e+00, -1.204495e+01, -6.766997e+00,  1.031149e+01,\n",
       "        9.959110e+00,  7.005773e+00,  8.666424e+00, -2.268020e-01,\n",
       "       -1.456114e+01,  4.695590e+00,  7.893845e+00,  1.514207e+00,\n",
       "        3.866090e-01, -1.065245e+01, -1.708710e+01,  8.491136e+00,\n",
       "        6.353312e+00, -4.032564e+00,  4.398282e+00,  1.783335e+01,\n",
       "       -4.120121e+00, -1.112184e+01,  5.518540e+00,  2.261657e+00,\n",
       "        1.605455e+01,  8.727355e+00, -3.909386e+00, -1.037790e+01,\n",
       "        1.785291e+00,  1.964487e+01,  6.610910e+00, -6.561765e+00,\n",
       "        6.536961e+00,  3.463700e+00, -1.199750e+00, -4.616147e+00,\n",
       "       -9.472829e+00, -7.850628e+00, -7.551820e+00, -8.709044e+00,\n",
       "        2.003240e-01, -7.034509e+00, -1.331039e+01,  2.966531e+00,\n",
       "       -9.888801e+00,  3.317975e+00, -2.165962e+01,  2.107718e+01,\n",
       "        3.600218e+00, -1.537148e+00, -6.678017e+00, -1.201123e+00,\n",
       "        1.281937e+01, -5.756550e-01, -6.848316e+00,  1.234126e+01,\n",
       "       -2.482060e-01,  2.255410e-01,  8.951061e+00, -5.258317e+00,\n",
       "       -1.457997e+01,  9.894990e-01, -9.449557e+00, -1.671824e+01,\n",
       "        4.301460e-01, -7.176464e+00,  1.870052e+01, -2.613436e+01,\n",
       "        9.915930e-01,  1.382718e+01,  8.567280e-01,  2.517470e+00,\n",
       "        1.026770e+01, -1.437574e+01,  1.632909e+00,  2.646903e+01,\n",
       "        3.764886e+00, -1.150138e+01, -1.408928e+01,  9.710218e+00,\n",
       "        2.539240e-01, -1.813825e+01,  3.390841e+00, -3.898900e-02,\n",
       "       -5.979357e+00,  8.648338e+00,  9.059507e+00,  1.726487e+00,\n",
       "       -1.678993e+00, -1.341751e+00,  1.333812e+00, -7.251850e+00,\n",
       "        1.028433e+01, -1.263705e+01, -5.407184e+00,  4.846900e-02,\n",
       "       -6.419250e-01, -3.178128e+00, -7.887960e-01,  3.708190e+00,\n",
       "        1.058988e+01,  1.122100e+01, -4.612973e+00, -1.451547e+01,\n",
       "       -6.027090e-01,  1.519380e-01,  8.376680e-01,  2.026589e+01,\n",
       "       -1.168150e+01,  6.818601e+00, -1.454545e+00, -2.009150e-01,\n",
       "        1.207541e+01,  1.781523e+00, -7.705548e+00, -3.763378e+00,\n",
       "       -1.481458e+01,  1.058077e+01,  1.746796e+01,  3.760770e+00,\n",
       "        2.149690e+00, -1.377229e+01,  4.527696e+00,  2.464808e+01,\n",
       "       -1.996414e+01,  2.029257e+00,  2.040471e+00, -1.228338e+01,\n",
       "       -1.566539e+01, -1.167010e+01,  4.628966e+00,  1.329245e+00,\n",
       "        7.572450e-01,  8.229867e+00, -7.361532e+00,  5.466552e+00,\n",
       "        5.129880e-01, -5.448010e-01, -1.305096e+01, -1.072127e+01,\n",
       "        1.728729e+01,  1.455419e+01, -3.649845e+00, -8.987159e+00,\n",
       "        1.525778e+00,  1.241330e+01, -2.599002e+00,  9.729379e+00,\n",
       "       -8.330710e-01,  2.006982e+01, -7.373730e+00,  1.200821e+01,\n",
       "        1.426045e+01, -3.064400e-02,  2.252586e+01, -1.453737e+01,\n",
       "        3.209230e-01,  7.742360e+00,  4.978088e+00, -2.392328e+01,\n",
       "       -1.169315e+01, -5.128281e+00, -8.198375e+00,  2.088586e+00,\n",
       "        1.027099e+01,  5.923495e+00,  1.075836e+01,  1.883117e+00,\n",
       "        1.469563e+01,  2.104782e+01, -1.311312e+00, -2.795136e+00,\n",
       "        1.607192e+01,  2.653159e+00,  8.738715e+00,  1.284846e+01,\n",
       "        2.154522e+00, -1.020789e+01,  2.432985e+01,  1.216900e+01,\n",
       "        4.532956e+00,  1.920484e+00, -1.335456e+01, -1.186287e+01,\n",
       "       -1.303488e+01, -8.115470e-01, -7.834357e+00,  1.197410e+00,\n",
       "        1.696520e+01,  9.863353e+00,  2.469840e-01, -1.237485e+01,\n",
       "       -6.628841e+00, -1.337087e+01, -4.941760e-01, -4.442985e+00,\n",
       "        5.138521e+00,  5.717667e+00, -8.331649e+00,  4.357378e+00,\n",
       "        1.162631e+00,  5.565340e+00, -6.133124e+00, -8.170878e+00,\n",
       "       -1.259645e+01,  6.280607e+00,  6.098446e+00, -1.305723e+01,\n",
       "       -9.568099e+00, -5.384485e+00, -7.163597e+00,  4.298066e+00,\n",
       "       -6.976808e+00, -1.936945e+01, -1.643305e+01,  1.764088e+01,\n",
       "        9.785478e+00,  1.456384e+00,  6.841060e-01, -6.116754e+00,\n",
       "        9.163850e-01,  1.116781e+00,  3.108519e+00, -3.818336e+00,\n",
       "       -3.252751e+00, -1.660481e+01, -2.192920e+01,  9.506493e+00,\n",
       "        8.624313e+00, -1.304218e+01,  4.586341e+00,  9.926378e+00,\n",
       "        9.541220e-01, -9.458564e+00,  1.720633e+01, -7.854232e+00,\n",
       "        7.390840e+00, -1.961288e+01, -2.555882e+01,  2.202400e+00,\n",
       "       -6.873514e+00, -3.585253e+00, -6.913472e+00,  4.542614e+00,\n",
       "        5.577458e+00, -2.034294e+01, -4.950934e+00,  1.066692e+01,\n",
       "        1.744230e+01,  4.662388e+00, -1.870847e+01, -4.457077e+00,\n",
       "        1.768142e+00, -8.436483e+00,  4.783135e+00, -1.770518e+01,\n",
       "        3.262483e+00, -2.953581e+00,  4.046967e+00,  4.555983e+00,\n",
       "        1.406488e+01, -9.161387e+00, -1.759748e+00,  1.403046e+01,\n",
       "       -2.133416e+00,  7.018427e+00, -4.747722e+00, -1.903976e+00,\n",
       "        7.144101e+00,  4.536653e+00,  1.616030e+01, -8.397909e+00,\n",
       "       -5.591391e+00,  4.669053e+00, -3.092596e+00, -1.329354e+00,\n",
       "       -8.680759e+00, -1.312156e+01, -3.365084e+00, -2.285303e+01,\n",
       "       -1.542544e+01, -3.634396e+00, -1.150538e+01,  5.568200e+00,\n",
       "        1.593389e+01,  4.197465e+00,  2.143960e-01,  4.111012e+00,\n",
       "        1.584997e+01, -9.319270e+00, -9.727099e+00, -5.658416e+00,\n",
       "       -7.250469e+00, -3.161987e+00,  9.158682e+00, -8.906149e+00,\n",
       "       -8.622894e+00, -1.513770e-01, -1.243086e+01, -9.382725e+00,\n",
       "       -7.379120e+00,  9.483505e+00, -6.112617e+00, -2.085591e+01,\n",
       "        7.805839e+00,  3.100030e-01,  7.463047e+00, -1.056132e+01,\n",
       "       -8.733792e+00, -1.196086e+01,  7.471440e-01, -1.387106e+01,\n",
       "        2.312390e+00,  1.567890e-01, -2.700865e+00,  1.585267e+01,\n",
       "       -2.954092e+00,  1.112325e+01, -9.167084e+00, -4.682606e+00,\n",
       "        9.310770e-01,  9.404430e-01, -7.700275e+00, -8.731447e+00,\n",
       "        4.759249e+00, -1.556274e+01,  7.487730e+00, -4.381787e+00,\n",
       "       -8.097530e+00,  1.159353e+01,  1.328461e+01,  3.274111e+00,\n",
       "        2.871656e+00,  2.577785e+00,  1.515843e+01, -1.768235e+01])"
      ]
     },
     "execution_count": 63,
     "metadata": {},
     "output_type": "execute_result"
    }
   ],
   "source": [
    "motiv = data['motiv'].values\n",
    "motiv"
   ]
  },
  {
   "cell_type": "code",
   "execution_count": 67,
   "id": "b889b2ec",
   "metadata": {},
   "outputs": [],
   "source": [
    "X = motiv.reshape((-1, 1))\n",
    "X = np.hstack((X, np.ones_like(X)))\n",
    "y = data['read'].values"
   ]
  },
  {
   "cell_type": "code",
   "execution_count": 68,
   "id": "4593f05a",
   "metadata": {},
   "outputs": [
    {
     "data": {
      "text/plain": [
       "array([ 5.300e-01, -1.232e-07])"
      ]
     },
     "execution_count": 68,
     "metadata": {},
     "output_type": "execute_result"
    }
   ],
   "source": [
    "np.linalg.inv(X.T@X)@X.T@y"
   ]
  },
  {
   "cell_type": "code",
   "execution_count": 93,
   "id": "74f64a29",
   "metadata": {},
   "outputs": [
    {
     "name": "stdout",
     "output_type": "stream",
     "text": [
      "Name of objective: FIML\n",
      "Optimization method: SLSQP\n",
      "Optimization successful.\n",
      "Optimization terminated successfully\n",
      "Objective value: 5438.291\n",
      "Number of iterations: 11\n",
      "Params: -0.000 -0.000 0.530 99.800 71.766\n",
      "    lval  op   rval   Estimate  Std. Err    z-value   p-value\n",
      "0   read   ~  motiv   0.530017  0.037923  13.975959  0.000000\n",
      "1  motiv   ~      1  -0.000039  0.446766  -0.000087  0.999931\n",
      "2   read   ~      1  -0.000118  0.378855  -0.000311  0.999752\n",
      "3  motiv  ~~  motiv  99.800005  6.311907  15.811388  0.000000\n",
      "4   read  ~~   read  71.765618  4.538856  15.811388  0.000000\n"
     ]
    }
   ],
   "source": [
    "desc = \"read ~ motiv\\nmotiv~~motiv\"\n",
    "\n",
    "# mod = semopy.Model(desc)\n",
    "mod = semopy.ModelMeans(desc)\n",
    "\n",
    "# choose from: MLW\n",
    "# Choose from: L-BFGS-B, SLSQP, BFGS\n",
    "# nlminb \"adaptive nonlinear least-squares algorithm\".\n",
    "res = mod.fit(data, obj='ML', solver='SLSQP')\n",
    "print(res)\n",
    "print(mod.inspect())\n"
   ]
  },
  {
   "cell_type": "code",
   "execution_count": 91,
   "id": "cd1a71a7",
   "metadata": {},
   "outputs": [],
   "source": [
    "desc = \\\n",
    "    \"read ~ ppsych + motiv\" + \"\\n\" + \\\n",
    "    \"arith ~ motiv\"\n",
    "\n",
    "# mod = semopy.Model(desc)\n",
    "mod = semopy.Model(desc)"
   ]
  },
  {
   "cell_type": "code",
   "execution_count": 92,
   "id": "8a3b70f6",
   "metadata": {},
   "outputs": [
    {
     "data": {
      "text/plain": [
       "{'_b1': Model.Parameter(start=None, active=True, bound=(None, None), locations=[Model.ParameterLoc(matrix=array([[0., 0.],\n",
       "        [0., 0.],\n",
       "        [1., 0.],\n",
       "        [0., 1.]]), indices=(1, 1), symmetric=False)]),\n",
       " '_b2': Model.Parameter(start=None, active=True, bound=(None, None), locations=[Model.ParameterLoc(matrix=array([[0., 0.],\n",
       "        [0., 0.],\n",
       "        [1., 0.],\n",
       "        [0., 1.]]), indices=(1, 0), symmetric=False)]),\n",
       " '_b3': Model.Parameter(start=None, active=True, bound=(None, None), locations=[Model.ParameterLoc(matrix=array([[0., 0.],\n",
       "        [0., 0.],\n",
       "        [1., 0.],\n",
       "        [0., 1.]]), indices=(0, 0), symmetric=False)]),\n",
       " '_c1': Model.Parameter(start=None, active=False, bound=(0, None), locations=[Model.ParameterLoc(matrix=array([[0., 0.],\n",
       "        [0., 0.]]), indices=(0, 0), symmetric=False)]),\n",
       " '_c2': Model.Parameter(start=None, active=False, bound=(None, None), locations=[Model.ParameterLoc(matrix=array([[0., 0.],\n",
       "        [0., 0.]]), indices=(0, 1), symmetric=True)]),\n",
       " '_c3': Model.Parameter(start=None, active=False, bound=(0, None), locations=[Model.ParameterLoc(matrix=array([[0., 0.],\n",
       "        [0., 0.]]), indices=(1, 1), symmetric=False)]),\n",
       " '_c4': Model.Parameter(start=None, active=True, bound=(0, None), locations=[Model.ParameterLoc(matrix=array([[0., 0., 0., 0.],\n",
       "        [0., 0., 0., 0.],\n",
       "        [0., 0., 0., 0.],\n",
       "        [0., 0., 0., 0.]]), indices=(1, 1), symmetric=False)]),\n",
       " '_c5': Model.Parameter(start=None, active=True, bound=(0, None), locations=[Model.ParameterLoc(matrix=array([[0., 0., 0., 0.],\n",
       "        [0., 0., 0., 0.],\n",
       "        [0., 0., 0., 0.],\n",
       "        [0., 0., 0., 0.]]), indices=(0, 0), symmetric=False)])}"
      ]
     },
     "execution_count": 92,
     "metadata": {},
     "output_type": "execute_result"
    }
   ],
   "source": [
    "mod.parameters"
   ]
  },
  {
   "cell_type": "code",
   "execution_count": 87,
   "id": "a7a8c0a9",
   "metadata": {},
   "outputs": [
    {
     "data": {
      "text/plain": [
       "('beta', 'lambda', 'psi', 'theta')"
      ]
     },
     "execution_count": 87,
     "metadata": {},
     "output_type": "execute_result"
    }
   ],
   "source": [
    "mod.matrices_names"
   ]
  },
  {
   "cell_type": "code",
   "execution_count": 88,
   "id": "6a7546ff",
   "metadata": {},
   "outputs": [
    {
     "data": {
      "text/plain": [
       "array([[ 0.60000018,  0.        ],\n",
       "       [ 0.46133278, -0.27466722],\n",
       "       [ 1.        ,  0.        ],\n",
       "       [ 0.        ,  1.        ]])"
      ]
     },
     "execution_count": 88,
     "metadata": {},
     "output_type": "execute_result"
    }
   ],
   "source": [
    "mod.mx_lambda"
   ]
  },
  {
   "cell_type": "code",
   "execution_count": 89,
   "id": "e4bb54b7",
   "metadata": {},
   "outputs": [
    {
     "data": {
      "text/plain": [
       "array([[ 99.80000307, -24.95000055],\n",
       "       [-24.95000055,  99.79999506]])"
      ]
     },
     "execution_count": 89,
     "metadata": {},
     "output_type": "execute_result"
    }
   ],
   "source": [
    "mod.mx_psi"
   ]
  },
  {
   "cell_type": "code",
   "execution_count": 90,
   "id": "c0d1712e",
   "metadata": {},
   "outputs": [
    {
     "data": {
      "text/plain": [
       "array([[63.86901298,  0.        ,  0.        ,  0.        ],\n",
       "       [ 0.        , 64.70404932,  0.        ,  0.        ],\n",
       "       [ 0.        ,  0.        ,  0.        ,  0.        ],\n",
       "       [ 0.        ,  0.        ,  0.        ,  0.        ]])"
      ]
     },
     "execution_count": 90,
     "metadata": {},
     "output_type": "execute_result"
    }
   ],
   "source": [
    "mod.mx_theta"
   ]
  },
  {
   "cell_type": "code",
   "execution_count": 85,
   "id": "7e8bf1f9",
   "metadata": {},
   "outputs": [
    {
     "data": {
      "text/plain": [
       "array([[0., 0.],\n",
       "       [0., 0.]])"
      ]
     },
     "execution_count": 85,
     "metadata": {},
     "output_type": "execute_result"
    }
   ],
   "source": [
    "mod.mx_beta"
   ]
  },
  {
   "cell_type": "code",
   "execution_count": null,
   "id": "c61b0162",
   "metadata": {},
   "outputs": [],
   "source": []
  },
  {
   "cell_type": "code",
   "execution_count": 82,
   "id": "ec60ecb7",
   "metadata": {},
   "outputs": [
    {
     "name": "stdout",
     "output_type": "stream",
     "text": [
      "Name of objective: MLW\n",
      "Optimization method: SLSQP\n",
      "Optimization successful.\n",
      "Optimization terminated successfully\n",
      "Objective value: 0.470\n",
      "Number of iterations: 13\n",
      "Params: -0.275 0.461 0.600 64.704 63.869\n",
      "    lval  op    rval   Estimate  Std. Err    z-value       p-value\n",
      "0   read   ~  ppsych  -0.274667  0.037190  -7.385451  1.518785e-13\n",
      "1   read   ~   motiv   0.461333  0.037190  12.404650  0.000000e+00\n",
      "2  arith   ~   motiv   0.600000  0.035776  16.770907  0.000000e+00\n",
      "3   read  ~~    read  64.704049  4.092243  15.811388  0.000000e+00\n",
      "4  arith  ~~   arith  63.869013  4.039431  15.811388  0.000000e+00\n"
     ]
    }
   ],
   "source": [
    "# choose from: MLW\n",
    "# Choose from: L-BFGS-B, SLSQP, BFGS\n",
    "# nlminb \"adaptive nonlinear least-squares algorithm\".\n",
    "res = mod.fit(data, obj='MLW', solver='SLSQP')\n",
    "print(res)\n",
    "print(mod.inspect())"
   ]
  },
  {
   "cell_type": "code",
   "execution_count": 79,
   "id": "846fd2af",
   "metadata": {},
   "outputs": [
    {
     "name": "stdout",
     "output_type": "stream",
     "text": [
      "{'all': {'arith', 'read', 'motiv', 'ppsych'}, 'endogenous': {'read', 'arith'}, 'exogenous': set(), 'observed': ['arith', 'read'], 'latent': set(), 'indicator': set(), 'output': {}, 'observed_exogenous': ['1', 'motiv', 'ppsych'], '_output': {'read', 'arith'}, 'inner': [], 'observed_exogenous_1': set(), 'observed_exogenous_2': {'1', 'motiv', 'ppsych'}}\n"
     ]
    }
   ],
   "source": [
    "print(mod.vars)"
   ]
  },
  {
   "cell_type": "code",
   "execution_count": null,
   "id": "a180b3f3",
   "metadata": {},
   "outputs": [],
   "source": []
  }
 ],
 "metadata": {
  "kernelspec": {
   "display_name": "Python 3 (ipykernel)",
   "language": "python",
   "name": "python3"
  },
  "language_info": {
   "codemirror_mode": {
    "name": "ipython",
    "version": 3
   },
   "file_extension": ".py",
   "mimetype": "text/x-python",
   "name": "python",
   "nbconvert_exporter": "python",
   "pygments_lexer": "ipython3",
   "version": "3.9.13"
  },
  "toc": {
   "base_numbering": 1,
   "nav_menu": {},
   "number_sections": true,
   "sideBar": true,
   "skip_h1_title": false,
   "title_cell": "Table of Contents",
   "title_sidebar": "Contents",
   "toc_cell": false,
   "toc_position": {},
   "toc_section_display": true,
   "toc_window_display": false
  }
 },
 "nbformat": 4,
 "nbformat_minor": 5
}